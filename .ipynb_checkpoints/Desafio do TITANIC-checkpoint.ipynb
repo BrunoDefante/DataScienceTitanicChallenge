{
 "cells": [
  {
   "cell_type": "code",
   "execution_count": null,
   "metadata": {
    "ExecuteTime": {
     "end_time": "2020-03-19T12:46:57.753997Z",
     "start_time": "2020-03-19T12:46:57.734340Z"
    }
   },
   "outputs": [],
   "source": [
    "def show_cross_validate(modelo, X, Y, k):\n",
    "    scoring = ['accuracy', 'precision', 'recall', 'f1']\n",
    "    cv_results = cross_validate(modelo, X, Y, cv=k, scoring=scoring)\n",
    "\n",
    "    #Print Metrics Mean\n",
    "    print('Accuracy: ', cv_results['test_accuracy'].mean(),\n",
    "         '\\nPrecision: ', cv_results['test_precision'].mean(),\n",
    "         '\\nRecall: ', cv_results['test_recall'].mean(),\n",
    "         '\\nF1: ', cv_results['test_f1'].mean())\n",
    "    \n",
    "def show_roc_curve(y_true, y_prob):\n",
    "    fpr, tpr, threshold = roc_curve(y_true, y_prob)\n",
    "\n",
    "    plt.figure(figsize=(10, 7))\n",
    "    plt.title('ROC CURVE AUC')\n",
    "    plt.xlabel('False Positive Rate')\n",
    "    plt.ylabel('True Positive Rate')\n",
    "    plt.plot(fpr, tpr, lw=2)\n",
    "    plt.plot([0, 1], [0, 1], lw=2,linestyle='--')\n",
    "    plt.show()"
   ]
  },
  {
   "cell_type": "code",
   "execution_count": null,
   "metadata": {
    "ExecuteTime": {
     "end_time": "2020-03-19T12:46:57.775591Z",
     "start_time": "2020-03-19T12:46:57.758593Z"
    }
   },
   "outputs": [],
   "source": [
    "#!pip install plotly\n",
    "#!conda install -c conda-forge jupyter_contrib_nbextensions\n",
    "#!pip install https://s3-us-west-2.amazonaws.com/xgboost-nightly-builds/xgboost-[version]+[commithash]-py2.py3-none-manylinux1_x86_64.whl"
   ]
  },
  {
   "cell_type": "code",
   "execution_count": null,
   "metadata": {
    "ExecuteTime": {
     "end_time": "2020-03-19T12:47:07.262841Z",
     "start_time": "2020-03-19T12:46:57.780575Z"
    }
   },
   "outputs": [],
   "source": [
    "import pandas as pd\n",
    "import statistics as sta\n",
    "import plotly.graph_objs as go\n",
    "import seaborn as sns\n",
    "%matplotlib inline\n",
    "import matplotlib.pyplot as plt\n",
    "from sklearn.model_selection import train_test_split\n",
    "from sklearn.model_selection import cross_validate\n",
    "from sklearn.linear_model import LinearRegression\n",
    "from sklearn.ensemble import RandomForestClassifier\n",
    "from sklearn.metrics import accuracy_score\n",
    "from sklearn.metrics import precision_score\n",
    "from sklearn.metrics import f1_score\n",
    "from sklearn.metrics import confusion_matrix\n",
    "from sklearn.metrics import recall_score\n",
    "from sklearn.metrics import roc_curve\n",
    "from xgboost import XGBClassifier\n",
    "import numpy as np"
   ]
  },
  {
   "cell_type": "code",
   "execution_count": null,
   "metadata": {
    "ExecuteTime": {
     "end_time": "2020-03-17T18:16:37.364517Z",
     "start_time": "2020-03-17T18:16:37.355541Z"
    }
   },
   "outputs": [],
   "source": []
  },
  {
   "cell_type": "code",
   "execution_count": null,
   "metadata": {
    "ExecuteTime": {
     "end_time": "2020-03-19T12:47:07.318729Z",
     "start_time": "2020-03-19T12:47:07.267820Z"
    }
   },
   "outputs": [],
   "source": [
    "train_csv_path = \"df_titanic/train.csv\"\n",
    "df_train = pd.read_csv(train_csv_path)"
   ]
  },
  {
   "cell_type": "code",
   "execution_count": null,
   "metadata": {
    "ExecuteTime": {
     "end_time": "2020-03-19T12:47:07.332735Z",
     "start_time": "2020-03-19T12:47:07.325073Z"
    }
   },
   "outputs": [],
   "source": [
    "pd.options.display.max_rows = None"
   ]
  },
  {
   "cell_type": "code",
   "execution_count": null,
   "metadata": {
    "ExecuteTime": {
     "end_time": "2020-03-19T12:47:07.426707Z",
     "start_time": "2020-03-19T12:47:07.339860Z"
    }
   },
   "outputs": [],
   "source": [
    "df_train[df_train['Age'] == 21]"
   ]
  },
  {
   "cell_type": "code",
   "execution_count": null,
   "metadata": {
    "ExecuteTime": {
     "end_time": "2020-03-19T12:47:07.439224Z",
     "start_time": "2020-03-19T12:47:07.431744Z"
    }
   },
   "outputs": [],
   "source": [
    "#Entendimento dos dados"
   ]
  },
  {
   "cell_type": "markdown",
   "metadata": {},
   "source": [
    "# Tratamento de dados"
   ]
  },
  {
   "cell_type": "code",
   "execution_count": null,
   "metadata": {
    "ExecuteTime": {
     "end_time": "2020-03-19T12:47:07.513586Z",
     "start_time": "2020-03-19T12:47:07.443775Z"
    }
   },
   "outputs": [],
   "source": [
    "df_train.groupby(['Sex', 'Pclass', 'Survived'],as_index = False).count()"
   ]
  },
  {
   "cell_type": "code",
   "execution_count": null,
   "metadata": {
    "ExecuteTime": {
     "end_time": "2020-03-19T12:47:07.524981Z",
     "start_time": "2020-03-19T12:47:07.517447Z"
    }
   },
   "outputs": [],
   "source": [
    "df_vazio = df_train[df_train['Age'].isnull()]"
   ]
  },
  {
   "cell_type": "code",
   "execution_count": null,
   "metadata": {
    "ExecuteTime": {
     "end_time": "2020-03-19T12:47:07.553490Z",
     "start_time": "2020-03-19T12:47:07.528766Z"
    }
   },
   "outputs": [],
   "source": [
    "df_vazio = df_vazio.groupby(['PassengerId', 'Sex'], as_index=False).count()"
   ]
  },
  {
   "cell_type": "code",
   "execution_count": null,
   "metadata": {
    "ExecuteTime": {
     "end_time": "2020-03-19T12:47:07.569571Z",
     "start_time": "2020-03-19T12:47:07.557669Z"
    }
   },
   "outputs": [],
   "source": [
    "df_vazio = df_vazio.groupby(['Sex'])['Age'].count().reset_index(name='Quantidade de idade vazia')"
   ]
  },
  {
   "cell_type": "code",
   "execution_count": null,
   "metadata": {
    "ExecuteTime": {
     "end_time": "2020-03-19T12:47:07.907854Z",
     "start_time": "2020-03-19T12:47:07.583144Z"
    }
   },
   "outputs": [],
   "source": [
    "sns.barplot(x='Sex', y='Quantidade de idade vazia', data=df_vazio).set_title('Quantidade de NAs nos registros')"
   ]
  },
  {
   "cell_type": "markdown",
   "metadata": {
    "ExecuteTime": {
     "end_time": "2020-03-19T12:45:27.510481Z",
     "start_time": "2020-03-19T12:45:27.506327Z"
    }
   },
   "source": [
    "# Tratando os Nulos"
   ]
  },
  {
   "cell_type": "code",
   "execution_count": null,
   "metadata": {
    "ExecuteTime": {
     "end_time": "2020-03-19T12:47:07.989707Z",
     "start_time": "2020-03-19T12:47:07.913439Z"
    },
    "scrolled": true
   },
   "outputs": [],
   "source": [
    "#Fill NaN values with the Miss' median age\n",
    "df_train['Age'] = df_train.apply(lambda x : 21 if (('Miss.' in x['Name']) & (pd.isnull(x['Age']) == True)) else x['Age'], axis = 1)"
   ]
  },
  {
   "cell_type": "code",
   "execution_count": null,
   "metadata": {
    "ExecuteTime": {
     "end_time": "2020-03-19T12:47:08.090331Z",
     "start_time": "2020-03-19T12:47:07.995353Z"
    }
   },
   "outputs": [],
   "source": [
    "#Fill NaN values with the Master's median age\n",
    "df_train['Age'] = df_train.apply(lambda x : 3.5 if (('Master' in x['Name']) & (pd.isnull(x['Age']) == True)) else x['Age'], axis=1)"
   ]
  },
  {
   "cell_type": "code",
   "execution_count": null,
   "metadata": {
    "ExecuteTime": {
     "end_time": "2020-03-19T12:47:08.180836Z",
     "start_time": "2020-03-19T12:47:08.095939Z"
    }
   },
   "outputs": [],
   "source": [
    "#Fill NaN values with the Mr's median age\n",
    "df_train.Age = df_train.apply(lambda x: 30 if (('Mr.' in x['Name']) & (pd.isnull(x['Age']) == True ))else x['Age'], axis=1)"
   ]
  },
  {
   "cell_type": "code",
   "execution_count": null,
   "metadata": {
    "ExecuteTime": {
     "end_time": "2020-03-19T12:47:08.263505Z",
     "start_time": "2020-03-19T12:47:08.184749Z"
    }
   },
   "outputs": [],
   "source": [
    "#Fill NaN values with the Mrs' median age\n",
    "df_train.Age = df_train.apply(lambda x: 35 if (('Mrs.' in x['Name']) & (pd.isnull(x['Age']) == True)) else x['Age'], axis=1)"
   ]
  },
  {
   "cell_type": "code",
   "execution_count": null,
   "metadata": {
    "ExecuteTime": {
     "end_time": "2020-03-19T12:47:08.360523Z",
     "start_time": "2020-03-19T12:47:08.267497Z"
    }
   },
   "outputs": [],
   "source": [
    "#Fill NaN values with the Dr's Median Age\n",
    "df_train.Age = df_train.apply(lambda x: 46.5 if (('Dr.' in x['Name']) & (pd.isnull(x['Age']) == True)) else x['Age'], axis=1)"
   ]
  },
  {
   "cell_type": "code",
   "execution_count": null,
   "metadata": {
    "ExecuteTime": {
     "end_time": "2020-03-19T12:47:08.370565Z",
     "start_time": "2020-03-19T12:47:08.364897Z"
    }
   },
   "outputs": [],
   "source": [
    "#df_train[(df_train['Name'].str.contains('Dr.', regex=False) & (df_train['Age'].isnull() == False))].Age.median()"
   ]
  },
  {
   "cell_type": "code",
   "execution_count": null,
   "metadata": {
    "ExecuteTime": {
     "end_time": "2020-03-19T12:47:08.385993Z",
     "start_time": "2020-03-19T12:47:08.373555Z"
    }
   },
   "outputs": [],
   "source": [
    "#df_train[df_train.Age.isnull()].Age.count()"
   ]
  },
  {
   "cell_type": "code",
   "execution_count": null,
   "metadata": {
    "ExecuteTime": {
     "end_time": "2020-03-19T12:47:08.401639Z",
     "start_time": "2020-03-19T12:47:08.390483Z"
    }
   },
   "outputs": [],
   "source": [
    "#df_train.loc[(df_train['Name'].str.contains('Miss', regex=False))]"
   ]
  },
  {
   "cell_type": "code",
   "execution_count": null,
   "metadata": {
    "ExecuteTime": {
     "end_time": "2020-03-19T12:47:08.414575Z",
     "start_time": "2020-03-19T12:47:08.405702Z"
    }
   },
   "outputs": [],
   "source": [
    "#df_train[(df_train['Age'].isnull() == False) & (df_train['Name'].str.contains('Miss', regex=False))].median()"
   ]
  },
  {
   "cell_type": "code",
   "execution_count": null,
   "metadata": {
    "ExecuteTime": {
     "end_time": "2020-03-19T12:47:08.438657Z",
     "start_time": "2020-03-19T12:47:08.421561Z"
    }
   },
   "outputs": [],
   "source": [
    "#df_train[(df_train['Age'].isnull() == False) & (df_train['Name'].str.contains('Miss', regex=False)  & (df_train['Age'] == 21))]"
   ]
  },
  {
   "cell_type": "code",
   "execution_count": null,
   "metadata": {
    "ExecuteTime": {
     "end_time": "2020-03-19T12:47:08.451640Z",
     "start_time": "2020-03-19T12:47:08.444067Z"
    }
   },
   "outputs": [],
   "source": [
    "#df_train"
   ]
  },
  {
   "cell_type": "code",
   "execution_count": null,
   "metadata": {
    "ExecuteTime": {
     "end_time": "2020-03-19T12:47:08.470167Z",
     "start_time": "2020-03-19T12:47:08.456632Z"
    }
   },
   "outputs": [],
   "source": [
    "df_full = df_train[['PassengerId', 'Survived', 'Pclass', 'Sex', 'Age']].copy()"
   ]
  },
  {
   "cell_type": "code",
   "execution_count": null,
   "metadata": {
    "ExecuteTime": {
     "end_time": "2020-03-19T12:47:08.497261Z",
     "start_time": "2020-03-19T12:47:08.477210Z"
    }
   },
   "outputs": [],
   "source": [
    "df_full['Sex_d'] = df_full.Sex.map({'female':0, 'male':1})"
   ]
  },
  {
   "cell_type": "code",
   "execution_count": null,
   "metadata": {
    "ExecuteTime": {
     "end_time": "2020-03-19T12:47:08.520677Z",
     "start_time": "2020-03-19T12:47:08.503244Z"
    }
   },
   "outputs": [],
   "source": [
    "df_full = df_full.drop(columns={'Sex'}).rename(columns={'Sex_d':'Sex_Male'})\n"
   ]
  },
  {
   "cell_type": "code",
   "execution_count": null,
   "metadata": {
    "ExecuteTime": {
     "end_time": "2020-03-19T12:47:08.544991Z",
     "start_time": "2020-03-19T12:47:08.525664Z"
    }
   },
   "outputs": [],
   "source": [
    "df_full[df_full['Age'].isnull()]"
   ]
  },
  {
   "cell_type": "markdown",
   "metadata": {},
   "source": [
    "# Data Understanding"
   ]
  },
  {
   "cell_type": "code",
   "execution_count": null,
   "metadata": {
    "ExecuteTime": {
     "end_time": "2020-03-19T12:47:08.570893Z",
     "start_time": "2020-03-19T12:47:08.550424Z"
    }
   },
   "outputs": [],
   "source": [
    "df_age = df_train.groupby(['Sex', 'Pclass', 'Survived'], as_index = True)['PassengerId'].count()"
   ]
  },
  {
   "cell_type": "code",
   "execution_count": null,
   "metadata": {
    "ExecuteTime": {
     "end_time": "2020-03-19T12:47:08.582734Z",
     "start_time": "2020-03-19T12:47:08.575871Z"
    }
   },
   "outputs": [],
   "source": [
    "df_age = df_age.rename(columns={'PassengerId': 'Count'}, inplace=True)"
   ]
  },
  {
   "cell_type": "code",
   "execution_count": null,
   "metadata": {
    "ExecuteTime": {
     "end_time": "2020-03-19T12:47:08.608123Z",
     "start_time": "2020-03-19T12:47:08.592839Z"
    }
   },
   "outputs": [],
   "source": [
    " df_age = df_age.reset_index(name='Count')"
   ]
  },
  {
   "cell_type": "code",
   "execution_count": null,
   "metadata": {
    "ExecuteTime": {
     "end_time": "2020-03-19T12:47:08.695858Z",
     "start_time": "2020-03-19T12:47:08.613429Z"
    }
   },
   "outputs": [],
   "source": [
    "df_female = df_age[df_age['Sex'] == 'female']"
   ]
  },
  {
   "cell_type": "code",
   "execution_count": null,
   "metadata": {
    "ExecuteTime": {
     "end_time": "2020-03-19T12:47:08.721772Z",
     "start_time": "2020-03-19T12:47:08.701815Z"
    }
   },
   "outputs": [],
   "source": [
    "df_female"
   ]
  },
  {
   "cell_type": "code",
   "execution_count": null,
   "metadata": {
    "ExecuteTime": {
     "end_time": "2020-03-19T12:47:08.738623Z",
     "start_time": "2020-03-19T12:47:08.726278Z"
    }
   },
   "outputs": [],
   "source": [
    "df_male = df_age.reset_index()"
   ]
  },
  {
   "cell_type": "code",
   "execution_count": null,
   "metadata": {
    "ExecuteTime": {
     "end_time": "2020-03-19T12:47:09.147728Z",
     "start_time": "2020-03-19T12:47:08.743576Z"
    }
   },
   "outputs": [],
   "source": [
    "sns.barplot(x = \"Pclass\", y = \"Count\", data = df_female, hue = \"Survived\").set_title('Sobrevivência de Mulheres')"
   ]
  },
  {
   "cell_type": "code",
   "execution_count": null,
   "metadata": {
    "ExecuteTime": {
     "end_time": "2020-03-19T12:47:09.712808Z",
     "start_time": "2020-03-19T12:47:09.153715Z"
    }
   },
   "outputs": [],
   "source": [
    "sns.barplot(x = 'Pclass', y = 'Count', data = df_male, hue= 'Survived', errwidth=0).set_title('Sobrevivência de Homens')"
   ]
  },
  {
   "cell_type": "markdown",
   "metadata": {},
   "source": [
    "# Faixa Etaria"
   ]
  },
  {
   "cell_type": "code",
   "execution_count": null,
   "metadata": {
    "ExecuteTime": {
     "end_time": "2020-03-19T12:47:09.725896Z",
     "start_time": "2020-03-19T12:47:09.716292Z"
    }
   },
   "outputs": [],
   "source": [
    "binn = []\n",
    "for x in range(0, 90, 10):\n",
    "    binn.append(x)\n",
    "binn"
   ]
  },
  {
   "cell_type": "code",
   "execution_count": null,
   "metadata": {
    "ExecuteTime": {
     "end_time": "2020-03-19T12:47:09.811450Z",
     "start_time": "2020-03-19T12:47:09.729435Z"
    }
   },
   "outputs": [],
   "source": [
    "df_age = df_train.groupby(['Sex', 'Pclass', 'Survived', pd.cut(df_train['Age'], binn)], as_index = True)['Age'].count()"
   ]
  },
  {
   "cell_type": "code",
   "execution_count": null,
   "metadata": {
    "ExecuteTime": {
     "end_time": "2020-03-19T12:47:09.841474Z",
     "start_time": "2020-03-19T12:47:09.825658Z"
    }
   },
   "outputs": [],
   "source": [
    "#Para resetar o indice e nomear a coluna count\n",
    "df_age = df_age.reset_index(name='count')"
   ]
  },
  {
   "cell_type": "code",
   "execution_count": null,
   "metadata": {
    "ExecuteTime": {
     "end_time": "2020-03-19T12:47:09.862947Z",
     "start_time": "2020-03-19T12:47:09.853877Z"
    }
   },
   "outputs": [],
   "source": [
    "df_age_f = df_age[df_age['Sex'] == 'female']"
   ]
  },
  {
   "cell_type": "code",
   "execution_count": null,
   "metadata": {
    "ExecuteTime": {
     "end_time": "2020-03-19T12:47:09.899713Z",
     "start_time": "2020-03-19T12:47:09.867594Z"
    }
   },
   "outputs": [],
   "source": [
    "df_age_f.head()"
   ]
  },
  {
   "cell_type": "code",
   "execution_count": null,
   "metadata": {
    "ExecuteTime": {
     "end_time": "2020-03-19T12:47:10.764275Z",
     "start_time": "2020-03-19T12:47:09.903702Z"
    }
   },
   "outputs": [],
   "source": [
    "f, ax = plt.subplots(figsize=(10,7))\n",
    "sns.barplot(x='Age', y='count', data=df_age_f, hue='Survived', errwidth=0).set_title('Sobrevivência por idade mulheres')\n",
    "plt.ylabel('Quantidade de mortes/sobrviventes')\n",
    "plt.show()"
   ]
  },
  {
   "cell_type": "code",
   "execution_count": null,
   "metadata": {},
   "outputs": [],
   "source": []
  },
  {
   "cell_type": "code",
   "execution_count": null,
   "metadata": {
    "ExecuteTime": {
     "end_time": "2020-03-19T12:47:10.778391Z",
     "start_time": "2020-03-19T12:47:10.767270Z"
    }
   },
   "outputs": [],
   "source": [
    "df_age_m = df_age[df_age['Sex'] == 'male']"
   ]
  },
  {
   "cell_type": "code",
   "execution_count": null,
   "metadata": {
    "ExecuteTime": {
     "end_time": "2020-03-19T12:47:11.788731Z",
     "start_time": "2020-03-19T12:47:10.783806Z"
    }
   },
   "outputs": [],
   "source": [
    "f, ax = plt.subplots(figsize=(10, 4))\n",
    "sns.barplot(x='Age', y='count', data=df_age_m, hue='Survived', errwidth=0).set_title('Sobrevivência por idade homens')\n",
    "plt.ylabel('Quantidade de mortes/sobrviventes')\n",
    "\n",
    "plt.show()"
   ]
  },
  {
   "cell_type": "code",
   "execution_count": null,
   "metadata": {
    "ExecuteTime": {
     "end_time": "2020-03-19T12:47:13.053484Z",
     "start_time": "2020-03-19T12:47:11.794747Z"
    }
   },
   "outputs": [],
   "source": [
    "f, ax = plt.subplots(figsize=(10, 4))\n",
    "sns.barplot(x='Age', y='count', data=df_age_m, hue='Survived', errwidth=1).set_title('Sobrevivência por idade homens')\n",
    "plt.ylabel('Quantidade de mortes/sobrviventes')\n",
    "\n",
    "plt.show()"
   ]
  },
  {
   "cell_type": "code",
   "execution_count": null,
   "metadata": {
    "ExecuteTime": {
     "end_time": "2020-03-19T12:47:13.062338Z",
     "start_time": "2020-03-19T12:47:13.056986Z"
    },
    "scrolled": true
   },
   "outputs": [],
   "source": [
    "#Ver probabilidade das crianças sobreviverem,\n",
    "#se somente recem nascido tem mais chance de sobreviver, \n",
    "#caso entrar idades nulas olhar Pclass para ver se encontra alguma coorelação\n",
    "#df_name.head()"
   ]
  },
  {
   "cell_type": "markdown",
   "metadata": {
    "ExecuteTime": {
     "end_time": "2020-03-16T12:49:10.889227Z",
     "start_time": "2020-03-16T12:49:10.885236Z"
    }
   },
   "source": [
    "# Análise Diagnóstica"
   ]
  },
  {
   "cell_type": "code",
   "execution_count": null,
   "metadata": {
    "ExecuteTime": {
     "end_time": "2020-03-19T12:47:13.134431Z",
     "start_time": "2020-03-19T12:47:13.066366Z"
    }
   },
   "outputs": [],
   "source": [
    "df_child = df_full.copy()\n",
    "df_child['LessThanFive'] = df_full.apply(lambda x : 1 if (x['Age'] < 5) else 0, axis = 1)"
   ]
  },
  {
   "cell_type": "code",
   "execution_count": null,
   "metadata": {
    "ExecuteTime": {
     "end_time": "2020-03-19T12:47:13.172198Z",
     "start_time": "2020-03-19T12:47:13.139465Z"
    }
   },
   "outputs": [],
   "source": [
    "df_child[df_child['Age'] < 5].head()"
   ]
  },
  {
   "cell_type": "code",
   "execution_count": null,
   "metadata": {
    "ExecuteTime": {
     "end_time": "2020-03-19T12:47:13.256454Z",
     "start_time": "2020-03-19T12:47:13.177184Z"
    }
   },
   "outputs": [],
   "source": [
    "dict_tmp = {}\n",
    "#Classe e Survived\n",
    "df_tmp = df_child.copy()\n",
    "df_tmp.drop(df_tmp[df_tmp.Age>12].index,inplace=True)\n",
    "print('menores de 5:',\n",
    "    '\\nClasse 1 mortos:',str(df_tmp[(df_tmp.Survived==0) & (df_tmp.Pclass==1) & (df_tmp.LessThanFive==1)].shape[0]),\n",
    "    '\\nClasse 2 mortos:',str(df_tmp[(df_tmp.Survived==0) & (df_tmp.Pclass==2) & (df_tmp.LessThanFive==1)].shape[0]),\n",
    "    '\\nClasse 3 mortos:',str(df_tmp[(df_tmp.Survived==0) & (df_tmp.Pclass==3) & (df_tmp.LessThanFive==1)].shape[0]))\n",
    "print('\\n')\n",
    "print('maiores de 5:',\n",
    "    '\\nClasse 1 mortos:',str(df_tmp[(df_tmp.Survived==0) & (df_tmp.Pclass==1) & (df_tmp.LessThanFive==0)].shape[0]),\n",
    "    '\\nClasse 2 mortos:',str(df_tmp[(df_tmp.Survived==0) & (df_tmp.Pclass==2) & (df_tmp.LessThanFive==0)].shape[0]),\n",
    "    '\\nClasse 3 mortos:',str(df_tmp[(df_tmp.Survived==0) & (df_tmp.Pclass==3) & (df_tmp.LessThanFive==0)].shape[0]))"
   ]
  },
  {
   "cell_type": "code",
   "execution_count": null,
   "metadata": {
    "ExecuteTime": {
     "end_time": "2020-03-19T12:47:13.269826Z",
     "start_time": "2020-03-19T12:47:13.259601Z"
    }
   },
   "outputs": [],
   "source": [
    "df_tmp.columns"
   ]
  },
  {
   "cell_type": "code",
   "execution_count": null,
   "metadata": {
    "ExecuteTime": {
     "end_time": "2020-03-19T12:47:13.312970Z",
     "start_time": "2020-03-19T12:47:13.273862Z"
    }
   },
   "outputs": [],
   "source": [
    "#Mulheres sobreviventes e não sobreviventes\n",
    "mask = (df_tmp.Sex_Male==0) & (df_tmp.LessThanFive==0)\n",
    "print(\n",
    "    'Meninas mais velhas mortas:',str(df_tmp[(df_tmp.Survived==0) & mask].shape[0]),\n",
    "    '\\nMeninas mais velhas sobreviventes:',str(df_tmp[(df_tmp.Survived==1) & mask].shape[0]))\n",
    "#Mulheres sobreviventes e não sobreviventes\n",
    "mask = (df_tmp.Sex_Male==0) & (df_tmp.LessThanFive==1)\n",
    "print(\n",
    "    'Meninas mais novas mortas:',str(df_tmp[(df_tmp.Survived==0) & mask].shape[0]),\n",
    "    '\\nMeninas mais novas sobreviventes:',str(df_tmp[(df_tmp.Survived==1) & mask].shape[0]))"
   ]
  },
  {
   "cell_type": "code",
   "execution_count": null,
   "metadata": {
    "ExecuteTime": {
     "end_time": "2020-03-19T12:47:13.326922Z",
     "start_time": "2020-03-19T12:47:13.318943Z"
    }
   },
   "outputs": [],
   "source": [
    "dict_tmp = {'Age': ['0-5', '6-12']}\n"
   ]
  },
  {
   "cell_type": "code",
   "execution_count": null,
   "metadata": {
    "ExecuteTime": {
     "end_time": "2020-03-19T12:47:13.376460Z",
     "start_time": "2020-03-19T12:47:13.337282Z"
    }
   },
   "outputs": [],
   "source": [
    "#Mulheres sobreviventes e não sobreviventes\n",
    "#mulheres sobreviventes\n",
    "\n",
    "mask = (df_tmp.Survived == 1) & (df_tmp.Sex_Male == 0)\n",
    "dict_tmp.update({'Meninas Sobreviventes': [df_tmp[(mask) & (df_tmp.LessThanFive == 1)].shape[0], \n",
    "                                       df_tmp[(mask) & (df_tmp.LessThanFive == 0)].shape[0]]})\n",
    "#mulheres nao sobreviventes\n",
    "mask = (df_tmp.Survived == 0) & (df_tmp.Sex_Male == 0)\n",
    "dict_tmp.update({'Meninas nao Sobreviventes': [df_tmp[(mask) & (df_tmp.LessThanFive == 1)].shape[0],\n",
    "                                           df_tmp[(mask) & (df_tmp.LessThanFive == 0)].shape[0]]})\n"
   ]
  },
  {
   "cell_type": "code",
   "execution_count": null,
   "metadata": {
    "ExecuteTime": {
     "end_time": "2020-03-19T12:47:13.433248Z",
     "start_time": "2020-03-19T12:47:13.382914Z"
    }
   },
   "outputs": [],
   "source": [
    "#Homens sobreviventes e não sobreviventes\n",
    "mask = (df_tmp.Sex_Male==1) & (df_tmp.LessThanFive==0)\n",
    "print(\n",
    "    'Meninos mais velhos mortos:',str(df_tmp[(df_tmp.Survived==0) & mask].shape[0]),\n",
    "    '\\nMeninos mais velhos sobreviventes:',str(df_tmp[(df_tmp.Survived==1) & mask].shape[0]))\n",
    "mask = (df_tmp.Sex_Male==1) & (df_tmp.LessThanFive==1)\n",
    "print(\n",
    "    'Meninos mais novos mortos:',str(df_tmp[(df_tmp.Survived==0) & mask].shape[0]),\n",
    "    '\\nMeninos mais novos sobreviventes:',str(df_tmp[(df_tmp.Survived==1) & mask].shape[0]))"
   ]
  },
  {
   "cell_type": "code",
   "execution_count": null,
   "metadata": {
    "ExecuteTime": {
     "end_time": "2020-03-19T12:47:13.484569Z",
     "start_time": "2020-03-19T12:47:13.438043Z"
    }
   },
   "outputs": [],
   "source": [
    "#Meninos sobreviventes e não sobreviventes\n",
    "#Meninos sobreviventes\n",
    "mask = (df_tmp.Survived == 1) & (df_tmp.Sex_Male == 1)\n",
    "dict_tmp.update({'Meninos Sobreviventes': [df_tmp[(mask) & (df_tmp.LessThanFive == 1)].shape[0], \n",
    "                                       df_tmp[(mask) & (df_tmp.LessThanFive == 0)].shape[0]]})\n",
    "#mulheres nao sobreviventes\n",
    "mask = (df_tmp.Survived == 0) & (df_tmp.Sex_Male == 1)\n",
    "dict_tmp.update({'Meninos nao Sobreviventes': [df_tmp[(mask) & (df_tmp.LessThanFive == 1)].shape[0],\n",
    "                                           df_tmp[(mask) & (df_tmp.LessThanFive == 0)].shape[0]]})\n"
   ]
  },
  {
   "cell_type": "code",
   "execution_count": null,
   "metadata": {
    "ExecuteTime": {
     "end_time": "2020-03-19T12:47:13.526441Z",
     "start_time": "2020-03-19T12:47:13.490647Z"
    }
   },
   "outputs": [],
   "source": [
    "#sobreviventes e não sobreviventes\n",
    "dict_tmp.update({'Total de sobreviventes':[df_tmp[(df_tmp.Survived == 1) & (df_tmp.LessThanFive == 1)].shape[0],\n",
    "                                      df_tmp[(df_tmp.Survived == 1) & (df_tmp.LessThanFive == 0)].shape[0]]})\n",
    "\n",
    "dict_tmp.update({'Total de não sobreviventes':[df_tmp[(df_tmp.Survived == 0) & (df_tmp.LessThanFive == 1)].shape[0],\n",
    "                                      df_tmp[(df_tmp.Survived == 0) & (df_tmp.LessThanFive == 0)].shape[0]]})\n"
   ]
  },
  {
   "cell_type": "code",
   "execution_count": null,
   "metadata": {
    "ExecuteTime": {
     "end_time": "2020-03-19T12:47:13.574769Z",
     "start_time": "2020-03-19T12:47:13.534347Z"
    }
   },
   "outputs": [],
   "source": [
    "#Porcentagem dos sobreviventes Menores que 5 anos\n",
    "dict_tmp.update({'% sobreviventes':[(df_tmp[(df_tmp.LessThanFive == 1) & (df_tmp.Survived == 1)].shape[0] / df_tmp[df_tmp.Survived == 1].shape[0]) * 100,\n",
    "                                                 (df_tmp[(df_tmp.LessThanFive == 0) & (df_tmp.Survived == 1)].shape[0] / df_tmp[df_tmp.Survived == 1].shape[0]) * 100]})\n",
    "\n",
    "\n"
   ]
  },
  {
   "cell_type": "code",
   "execution_count": null,
   "metadata": {
    "ExecuteTime": {
     "end_time": "2020-03-19T12:47:13.601641Z",
     "start_time": "2020-03-19T12:47:13.579825Z"
    }
   },
   "outputs": [],
   "source": [
    "#Homens Sobreviventes\n",
    "mask = (df_tmp.Sex_Male==1) & (df_tmp.LessThanFive==0)\n",
    "print(\n",
    "    'Meninos não sobreviventes:',str(df_tmp[(df_tmp.Survived==0) & mask].shape[0]),\n",
    "    '\\nMeninas mais velhas sobreviventes:',str(df_tmp[(df_tmp.Survived==1) & mask].shape[0]))"
   ]
  },
  {
   "cell_type": "code",
   "execution_count": null,
   "metadata": {
    "ExecuteTime": {
     "end_time": "2020-03-19T12:47:13.628969Z",
     "start_time": "2020-03-19T12:47:13.611053Z"
    }
   },
   "outputs": [],
   "source": [
    "#Homens não sobreviventes\n",
    "mask2 = (df_full.Survived==0) & (df_full.Sex_Male == 1)\n",
    "df_full[mask2].shape[0]"
   ]
  },
  {
   "cell_type": "code",
   "execution_count": null,
   "metadata": {
    "ExecuteTime": {
     "end_time": "2020-03-19T12:47:13.672458Z",
     "start_time": "2020-03-19T12:47:13.635487Z"
    }
   },
   "outputs": [],
   "source": [
    "#Porcentagem dos Sobrviventes Menores que 5 anos pertencentes à classe 1\n",
    "dict_tmp.update({'% Sobreviventes classe 1: ':[(df_tmp[(df_tmp.LessThanFive==1) & (df_tmp.Survived==1) & (df_tmp.Pclass == 1)].shape[0] / df_tmp[df_tmp.Survived == 1].shape[0]) * 100,\n",
    "                                                                           (df_tmp[(df_tmp.LessThanFive==0) & (df_tmp.Survived==1) & (df_tmp.Pclass == 1)].shape[0] / df_tmp[df_tmp.Survived == 1].shape[0]) * 100]})\n",
    "\n"
   ]
  },
  {
   "cell_type": "code",
   "execution_count": null,
   "metadata": {
    "ExecuteTime": {
     "end_time": "2020-03-19T12:47:13.715341Z",
     "start_time": "2020-03-19T12:47:13.677626Z"
    }
   },
   "outputs": [],
   "source": [
    "dict_tmp.update({'% Sobreviventes Classe 2:':[(df_tmp[(df_tmp.LessThanFive==1) & (df_tmp.Survived==1) & (df_tmp.Pclass == 2)].shape[0] / df_tmp[df_tmp.Survived == 1].shape[0])*100,\n",
    "                                                                           (df_tmp[(df_tmp.LessThanFive==0) & (df_tmp.Survived==1) & (df_tmp.Pclass == 2)].shape[0] / df_tmp[df_tmp.Survived == 1].shape[0])*100]})\n"
   ]
  },
  {
   "cell_type": "code",
   "execution_count": null,
   "metadata": {
    "ExecuteTime": {
     "end_time": "2020-03-19T12:47:13.747950Z",
     "start_time": "2020-03-19T12:47:13.719679Z"
    }
   },
   "outputs": [],
   "source": [
    "dict_tmp.update({'% Sobreviventes Classe 3:':[(df_tmp[(df_tmp.LessThanFive==1) & (df_tmp.Survived==1) & (df_tmp.Pclass == 3)].shape[0] / df_tmp[df_tmp.Survived == 1].shape[0])*100,\n",
    "                                                                           (df_tmp[(df_tmp.LessThanFive==0) & (df_tmp.Survived==1) & (df_tmp.Pclass == 3)].shape[0] / df_tmp[df_tmp.Survived == 1].shape[0])*100]})\n"
   ]
  },
  {
   "cell_type": "code",
   "execution_count": null,
   "metadata": {
    "ExecuteTime": {
     "end_time": "2020-03-19T12:47:13.766107Z",
     "start_time": "2020-03-19T12:47:13.753493Z"
    }
   },
   "outputs": [],
   "source": [
    "df_child = pd.DataFrame(dict_tmp)"
   ]
  },
  {
   "cell_type": "code",
   "execution_count": null,
   "metadata": {
    "ExecuteTime": {
     "end_time": "2020-03-19T12:47:13.789153Z",
     "start_time": "2020-03-19T12:47:13.771251Z"
    }
   },
   "outputs": [],
   "source": [
    "df_child = df_child.set_index('Age')"
   ]
  },
  {
   "cell_type": "code",
   "execution_count": null,
   "metadata": {
    "ExecuteTime": {
     "end_time": "2020-03-19T12:47:13.802964Z",
     "start_time": "2020-03-19T12:47:13.794539Z"
    }
   },
   "outputs": [],
   "source": [
    "df_teste = df_child.reset_index()"
   ]
  },
  {
   "cell_type": "code",
   "execution_count": null,
   "metadata": {
    "ExecuteTime": {
     "end_time": "2020-03-19T12:47:14.206733Z",
     "start_time": "2020-03-19T12:47:13.806730Z"
    }
   },
   "outputs": [],
   "source": [
    "pl3 = plt.bar(df_teste['Age'], df_teste['Meninos nao Sobreviventes'])\n",
    "pl4 = plt.bar(df_teste['Age'], df_teste['Meninas nao Sobreviventes'], bottom = df_teste['Meninos nao Sobreviventes'])\n",
    "plt.legend((pl3[0], pl4[0]), ('Meninos nao Sobreviventes', 'Meninas nao Sobreviventes'))\n",
    "plt.show()"
   ]
  },
  {
   "cell_type": "code",
   "execution_count": null,
   "metadata": {
    "ExecuteTime": {
     "end_time": "2020-03-19T12:47:15.073891Z",
     "start_time": "2020-03-19T12:47:14.211372Z"
    }
   },
   "outputs": [],
   "source": [
    "pl1 = plt.bar(df_teste['Age'], df_teste['Meninos Sobreviventes'])\n",
    "pl2 = plt.bar(df_teste['Age'], df_teste['Meninas Sobreviventes'], bottom = df_teste['Meninos Sobreviventes'])\n",
    "plt.legend((pl1[0], pl2[0]), ('Meninos Sobreviventes', 'Meninas Sobreviventes'))\n",
    "plt.show()\n",
    "pl3 = plt.bar(df_teste['Age'], df_teste['Meninos nao Sobreviventes'])\n",
    "pl4 = plt.bar(df_teste['Age'], df_teste['Meninas nao Sobreviventes'], bottom = df_teste['Meninos nao Sobreviventes'])\n",
    "plt.legend((pl3[0], pl4[0]), ('Meninos nao Sobreviventes', 'Meninas nao Sobreviventes'))\n",
    "plt.show()"
   ]
  },
  {
   "cell_type": "code",
   "execution_count": null,
   "metadata": {
    "ExecuteTime": {
     "end_time": "2020-03-19T12:47:15.114214Z",
     "start_time": "2020-03-19T12:47:15.078268Z"
    }
   },
   "outputs": [],
   "source": [
    "df_child.head()"
   ]
  },
  {
   "cell_type": "code",
   "execution_count": null,
   "metadata": {
    "ExecuteTime": {
     "end_time": "2020-03-19T12:47:16.502587Z",
     "start_time": "2020-03-19T12:47:15.118903Z"
    }
   },
   "outputs": [],
   "source": [
    "df_child[['Meninas Sobreviventes', 'Meninos Sobreviventes', 'Total de sobreviventes']].plot(kind='bar', title='Sobreviventes')\n",
    "df_child[['Meninas nao Sobreviventes', 'Meninos nao Sobreviventes', 'Total de não sobreviventes']].plot(kind='bar', title='Nao sobreviventes')"
   ]
  },
  {
   "cell_type": "code",
   "execution_count": null,
   "metadata": {
    "ExecuteTime": {
     "end_time": "2020-03-19T12:47:17.017250Z",
     "start_time": "2020-03-19T12:47:16.506576Z"
    }
   },
   "outputs": [],
   "source": [
    "df_full"
   ]
  },
  {
   "cell_type": "code",
   "execution_count": null,
   "metadata": {
    "ExecuteTime": {
     "end_time": "2020-03-19T12:47:24.782386Z",
     "start_time": "2020-03-19T12:47:17.025313Z"
    }
   },
   "outputs": [],
   "source": [
    "sns.set(context='notebook', style='darkgrid')\n",
    "sns.pairplot(df_full[['Age', 'Pclass', 'Sex_Male']], height=2.5)\n",
    "plt.show()"
   ]
  },
  {
   "cell_type": "markdown",
   "metadata": {},
   "source": [
    "# Correlation Grapich"
   ]
  },
  {
   "cell_type": "code",
   "execution_count": null,
   "metadata": {
    "ExecuteTime": {
     "end_time": "2020-03-19T12:47:25.335788Z",
     "start_time": "2020-03-19T12:47:24.786016Z"
    }
   },
   "outputs": [],
   "source": [
    "correlation = df_full.corr()\n",
    "correlation['Age'].sort_values(ascending = False).head(15)\n",
    "\n",
    "f, ax = plt.subplots(figsize = (8, 6))\n",
    "sns.heatmap(correlation)\n",
    "plt.show()"
   ]
  },
  {
   "cell_type": "markdown",
   "metadata": {},
   "source": [
    "# Machine Learning"
   ]
  },
  {
   "cell_type": "code",
   "execution_count": null,
   "metadata": {
    "ExecuteTime": {
     "end_time": "2020-03-19T12:47:25.345941Z",
     "start_time": "2020-03-19T12:47:25.339738Z"
    }
   },
   "outputs": [],
   "source": [
    "from sklearn.model_selection import train_test_split"
   ]
  },
  {
   "cell_type": "markdown",
   "metadata": {},
   "source": [
    "# Regressão Linear Logistica"
   ]
  },
  {
   "cell_type": "code",
   "execution_count": null,
   "metadata": {
    "ExecuteTime": {
     "end_time": "2020-03-19T12:47:25.394758Z",
     "start_time": "2020-03-19T12:47:25.350617Z"
    }
   },
   "outputs": [],
   "source": [
    "df_train.head()"
   ]
  },
  {
   "cell_type": "code",
   "execution_count": null,
   "metadata": {
    "ExecuteTime": {
     "end_time": "2020-03-19T12:47:25.426537Z",
     "start_time": "2020-03-19T12:47:25.399737Z"
    }
   },
   "outputs": [],
   "source": [
    "df_full.head()"
   ]
  },
  {
   "cell_type": "code",
   "execution_count": null,
   "metadata": {
    "ExecuteTime": {
     "end_time": "2020-03-19T12:47:25.446554Z",
     "start_time": "2020-03-19T12:47:25.431435Z"
    }
   },
   "outputs": [],
   "source": [
    "X_train, X_test, y_train, y_test = train_test_split(df_full[['Pclass', 'Sex_Male', 'Age']], df_full.Survived, train_size = 0.7, random_state=1)"
   ]
  },
  {
   "cell_type": "code",
   "execution_count": null,
   "metadata": {
    "ExecuteTime": {
     "end_time": "2020-03-19T12:47:25.479568Z",
     "start_time": "2020-03-19T12:47:25.451056Z"
    }
   },
   "outputs": [],
   "source": [
    "from sklearn.linear_model import LogisticRegression"
   ]
  },
  {
   "cell_type": "code",
   "execution_count": null,
   "metadata": {
    "ExecuteTime": {
     "end_time": "2020-03-19T12:47:25.513163Z",
     "start_time": "2020-03-19T12:47:25.486035Z"
    }
   },
   "outputs": [],
   "source": [
    "model = LogisticRegression()"
   ]
  },
  {
   "cell_type": "code",
   "execution_count": null,
   "metadata": {
    "ExecuteTime": {
     "end_time": "2020-03-19T12:47:25.551707Z",
     "start_time": "2020-03-19T12:47:25.519855Z"
    }
   },
   "outputs": [],
   "source": [
    "model.fit(X_train, y_train)"
   ]
  },
  {
   "cell_type": "code",
   "execution_count": null,
   "metadata": {
    "ExecuteTime": {
     "end_time": "2020-03-19T12:47:25.571735Z",
     "start_time": "2020-03-19T12:47:25.559768Z"
    }
   },
   "outputs": [],
   "source": [
    "yhat = model.predict(X_test)"
   ]
  },
  {
   "cell_type": "code",
   "execution_count": null,
   "metadata": {
    "ExecuteTime": {
     "end_time": "2020-03-19T12:47:25.590251Z",
     "start_time": "2020-03-19T12:47:25.577238Z"
    }
   },
   "outputs": [],
   "source": [
    "y_hat_prob = model.predict_proba(X_test)[:, 1]"
   ]
  },
  {
   "cell_type": "code",
   "execution_count": null,
   "metadata": {
    "ExecuteTime": {
     "end_time": "2020-03-19T12:47:26.357807Z",
     "start_time": "2020-03-19T12:47:25.594960Z"
    }
   },
   "outputs": [],
   "source": [
    "plt.title('Histograma das probabilidades preditas')\n",
    "plt.xlim(0, 1)\n",
    "plt.hist(y_hat_prob, bins=10)"
   ]
  },
  {
   "cell_type": "markdown",
   "metadata": {},
   "source": [
    "# Metrics"
   ]
  },
  {
   "cell_type": "code",
   "execution_count": null,
   "metadata": {
    "ExecuteTime": {
     "end_time": "2020-03-19T12:47:26.374415Z",
     "start_time": "2020-03-19T12:47:26.361302Z"
    }
   },
   "outputs": [],
   "source": [
    "yhat"
   ]
  },
  {
   "cell_type": "code",
   "execution_count": null,
   "metadata": {
    "ExecuteTime": {
     "end_time": "2020-03-19T12:47:26.393414Z",
     "start_time": "2020-03-19T12:47:26.380450Z"
    }
   },
   "outputs": [],
   "source": [
    "#y_test['Pred'] = yhat"
   ]
  },
  {
   "cell_type": "code",
   "execution_count": null,
   "metadata": {
    "ExecuteTime": {
     "end_time": "2020-03-19T12:47:26.416491Z",
     "start_time": "2020-03-19T12:47:26.398540Z"
    }
   },
   "outputs": [],
   "source": [
    "#y_test.pop('Pred')"
   ]
  },
  {
   "cell_type": "code",
   "execution_count": null,
   "metadata": {
    "ExecuteTime": {
     "end_time": "2020-03-19T12:47:26.437547Z",
     "start_time": "2020-03-19T12:47:26.422447Z"
    }
   },
   "outputs": [],
   "source": [
    "#y_test = pd.DataFrame(y_test)"
   ]
  },
  {
   "cell_type": "code",
   "execution_count": null,
   "metadata": {
    "ExecuteTime": {
     "end_time": "2020-03-19T12:47:26.471003Z",
     "start_time": "2020-03-19T12:47:26.443622Z"
    }
   },
   "outputs": [],
   "source": [
    "#y_test['Pred'] = yhat"
   ]
  },
  {
   "cell_type": "code",
   "execution_count": null,
   "metadata": {
    "ExecuteTime": {
     "end_time": "2020-03-19T12:47:26.494028Z",
     "start_time": "2020-03-19T12:47:26.476960Z"
    }
   },
   "outputs": [],
   "source": [
    "#y_test"
   ]
  },
  {
   "cell_type": "code",
   "execution_count": null,
   "metadata": {
    "ExecuteTime": {
     "end_time": "2020-03-19T12:47:26.524180Z",
     "start_time": "2020-03-19T12:47:26.500283Z"
    }
   },
   "outputs": [],
   "source": [
    "#Accuracy Metric. It's the proportion of true values among of the total numbers of the classes examined.\n",
    "ac_logistic = accuracy_score(y_test, yhat)\n",
    "ac_logistic"
   ]
  },
  {
   "cell_type": "code",
   "execution_count": null,
   "metadata": {
    "ExecuteTime": {
     "end_time": "2020-03-19T12:47:26.557240Z",
     "start_time": "2020-03-19T12:47:26.530234Z"
    }
   },
   "outputs": [],
   "source": [
    "#Precision Metric. It's the proportion of true values that are really true\n",
    "precision_score(y_test, yhat)"
   ]
  },
  {
   "cell_type": "code",
   "execution_count": null,
   "metadata": {
    "ExecuteTime": {
     "end_time": "2020-03-19T12:47:26.579301Z",
     "start_time": "2020-03-19T12:47:26.563222Z"
    }
   },
   "outputs": [],
   "source": [
    "#Recall_score. It's how many true positives were recalled (found) and how many of the correct hits were also found \n",
    "recall_score(y_test, yhat)"
   ]
  },
  {
   "cell_type": "code",
   "execution_count": null,
   "metadata": {
    "ExecuteTime": {
     "end_time": "2020-03-19T12:47:26.609659Z",
     "start_time": "2020-03-19T12:47:26.584289Z"
    }
   },
   "outputs": [],
   "source": [
    "#F1_Score Metric. It's a number between 0 and 1. It's a hamonic mean of Precision and Recall Metrics\n",
    "f1_score(y_test, yhat)"
   ]
  },
  {
   "cell_type": "code",
   "execution_count": null,
   "metadata": {
    "ExecuteTime": {
     "end_time": "2020-03-19T12:47:26.625771Z",
     "start_time": "2020-03-19T12:47:26.619621Z"
    }
   },
   "outputs": [],
   "source": [
    "#Criando a comparacao"
   ]
  },
  {
   "cell_type": "code",
   "execution_count": null,
   "metadata": {
    "ExecuteTime": {
     "end_time": "2020-03-19T12:47:26.642549Z",
     "start_time": "2020-03-19T12:47:26.631844Z"
    }
   },
   "outputs": [],
   "source": [
    "yhat2 = pd.DataFrame(yhat).rename(columns = {0:'Predito'})"
   ]
  },
  {
   "cell_type": "code",
   "execution_count": null,
   "metadata": {
    "ExecuteTime": {
     "end_time": "2020-03-19T12:47:26.659578Z",
     "start_time": "2020-03-19T12:47:26.651769Z"
    }
   },
   "outputs": [],
   "source": [
    "yhat2 = yhat2.set_index(y_test.index)"
   ]
  },
  {
   "cell_type": "code",
   "execution_count": null,
   "metadata": {
    "ExecuteTime": {
     "end_time": "2020-03-19T12:47:26.695789Z",
     "start_time": "2020-03-19T12:47:26.671658Z"
    }
   },
   "outputs": [],
   "source": [
    "y_test2 = pd.DataFrame(y_test)"
   ]
  },
  {
   "cell_type": "code",
   "execution_count": null,
   "metadata": {
    "ExecuteTime": {
     "end_time": "2020-03-19T12:47:26.721708Z",
     "start_time": "2020-03-19T12:47:26.701185Z"
    }
   },
   "outputs": [],
   "source": [
    "y_test2['Predito'] = yhat2['Predito']"
   ]
  },
  {
   "cell_type": "code",
   "execution_count": null,
   "metadata": {
    "ExecuteTime": {
     "end_time": "2020-03-19T12:47:26.742078Z",
     "start_time": "2020-03-19T12:47:26.726922Z"
    }
   },
   "outputs": [],
   "source": [
    "#pd.options.display.max_rows = None"
   ]
  },
  {
   "cell_type": "code",
   "execution_count": null,
   "metadata": {
    "ExecuteTime": {
     "end_time": "2020-03-19T12:47:26.848939Z",
     "start_time": "2020-03-19T12:47:26.748175Z"
    }
   },
   "outputs": [],
   "source": [
    "y_test2"
   ]
  },
  {
   "cell_type": "markdown",
   "metadata": {},
   "source": [
    "# Confusion Matrix - Logistic Regression"
   ]
  },
  {
   "cell_type": "code",
   "execution_count": null,
   "metadata": {
    "ExecuteTime": {
     "end_time": "2020-03-19T12:47:27.355612Z",
     "start_time": "2020-03-19T12:47:26.854026Z"
    }
   },
   "outputs": [],
   "source": [
    "fig = plt.figure(figsize=(7,5))\n",
    "cm = confusion_matrix(y_test, yhat)\n",
    "kws = {\"ha\": 'left',\"va\": 'top', \"size\":15}\n",
    "group_names = ['True Neg','False Pos','False Neg','True Pos']\n",
    "\n",
    "group_percentages = [\"{0:.2%}\".format(value) for value in\n",
    "                     cm.flatten()/np.sum(cm)]\n",
    "\n",
    "labels = [f\"{v1}\\n{v2}\" for v1, v2 in\n",
    "          zip(group_names,group_percentages)]\n",
    "\n",
    "labels = np.asarray(labels).reshape(2,2)\n",
    "heatmap = sns.heatmap(cm/np.sum(cm), annot=labels, annot_kws=kws, fmt='', cmap='Blues').set_title('Confusion Matrix')\n",
    "plt.tick_params(labelsize=15)\n",
    "plt.plot()"
   ]
  },
  {
   "cell_type": "markdown",
   "metadata": {
    "ExecuteTime": {
     "end_time": "2020-03-17T13:58:04.163453Z",
     "start_time": "2020-03-17T13:58:04.158385Z"
    }
   },
   "source": [
    "# ROC CURVE AUC - Logistic Regression"
   ]
  },
  {
   "cell_type": "code",
   "execution_count": null,
   "metadata": {
    "ExecuteTime": {
     "end_time": "2020-03-19T12:47:27.368641Z",
     "start_time": "2020-03-19T12:47:27.358381Z"
    }
   },
   "outputs": [],
   "source": [
    "fpr, tpr, threshold = roc_curve(y_test, y_hat_prob)"
   ]
  },
  {
   "cell_type": "code",
   "execution_count": null,
   "metadata": {
    "ExecuteTime": {
     "end_time": "2020-03-19T12:47:28.053041Z",
     "start_time": "2020-03-19T12:47:27.373562Z"
    }
   },
   "outputs": [],
   "source": [
    "plt.figure(figsize=(10, 7))\n",
    "plt.title('ROC CURVE AUC')\n",
    "plt.xlabel('False Positives Rate')\n",
    "plt.ylabel('True Positives Rate')\n",
    "plt.plot(fpr, tpr, lw=2)\n",
    "plt.plot([0, 1], [0, 1], lw=2, linestyle='--')\n",
    "plt.show()"
   ]
  },
  {
   "cell_type": "markdown",
   "metadata": {},
   "source": [
    "# Árvore de decisão"
   ]
  },
  {
   "cell_type": "code",
   "execution_count": null,
   "metadata": {
    "ExecuteTime": {
     "end_time": "2020-03-19T12:47:28.062525Z",
     "start_time": "2020-03-19T12:47:28.056362Z"
    }
   },
   "outputs": [],
   "source": [
    "from sklearn.model_selection import cross_val_score\n",
    "from sklearn.tree import DecisionTreeClassifier"
   ]
  },
  {
   "cell_type": "code",
   "execution_count": null,
   "metadata": {
    "ExecuteTime": {
     "end_time": "2020-03-19T12:47:28.101002Z",
     "start_time": "2020-03-19T12:47:28.066047Z"
    }
   },
   "outputs": [],
   "source": [
    "df_full[['Pclass', 'Age', 'Sex_Male']].head()"
   ]
  },
  {
   "cell_type": "code",
   "execution_count": null,
   "metadata": {
    "ExecuteTime": {
     "end_time": "2020-03-19T12:47:28.128752Z",
     "start_time": "2020-03-19T12:47:28.106666Z"
    }
   },
   "outputs": [],
   "source": [
    "X_train2, X_test2, y_train2, y_test2 = train_test_split(df_full[['Pclass', 'Age', 'Sex_Male']], df_full.Survived, train_size=0.75, random_state=1)"
   ]
  },
  {
   "cell_type": "code",
   "execution_count": null,
   "metadata": {},
   "outputs": [],
   "source": []
  },
  {
   "cell_type": "code",
   "execution_count": null,
   "metadata": {
    "ExecuteTime": {
     "end_time": "2020-03-19T12:47:28.141600Z",
     "start_time": "2020-03-19T12:47:28.134990Z"
    }
   },
   "outputs": [],
   "source": [
    "model_tree = DecisionTreeClassifier()"
   ]
  },
  {
   "cell_type": "code",
   "execution_count": null,
   "metadata": {
    "ExecuteTime": {
     "end_time": "2020-03-19T12:47:28.186792Z",
     "start_time": "2020-03-19T12:47:28.145973Z"
    }
   },
   "outputs": [],
   "source": [
    "model_tree.fit(X_train2, y_train2)"
   ]
  },
  {
   "cell_type": "code",
   "execution_count": null,
   "metadata": {
    "ExecuteTime": {
     "end_time": "2020-03-19T12:47:28.504556Z",
     "start_time": "2020-03-19T12:47:28.191800Z"
    }
   },
   "outputs": [],
   "source": [
    "df_full"
   ]
  },
  {
   "cell_type": "code",
   "execution_count": null,
   "metadata": {
    "ExecuteTime": {
     "end_time": "2020-03-19T12:47:28.528185Z",
     "start_time": "2020-03-19T12:47:28.513067Z"
    }
   },
   "outputs": [],
   "source": [
    "yhat = model_tree.predict(X_test2)"
   ]
  },
  {
   "cell_type": "code",
   "execution_count": null,
   "metadata": {
    "ExecuteTime": {
     "end_time": "2020-03-19T12:47:28.550190Z",
     "start_time": "2020-03-19T12:47:28.540115Z"
    }
   },
   "outputs": [],
   "source": [
    "y_hat_prob = model_tree.predict_proba(X_test2)[:, 1]"
   ]
  },
  {
   "cell_type": "code",
   "execution_count": null,
   "metadata": {
    "ExecuteTime": {
     "end_time": "2020-03-19T12:47:29.053349Z",
     "start_time": "2020-03-19T12:47:28.579837Z"
    }
   },
   "outputs": [],
   "source": [
    "plt.hist(y_hat_prob, bins=10)\n",
    "plt.xlim(0, 1)\n",
    "plt.title('Histogram de probabilidade das prdicoes')\n",
    "plt.show()"
   ]
  },
  {
   "cell_type": "markdown",
   "metadata": {},
   "source": [
    "# Metrics"
   ]
  },
  {
   "cell_type": "code",
   "execution_count": null,
   "metadata": {
    "ExecuteTime": {
     "end_time": "2020-03-19T12:47:29.072468Z",
     "start_time": "2020-03-19T12:47:29.060634Z"
    }
   },
   "outputs": [],
   "source": [
    "#Accuracy Metric. It's the proportion of true values among of the total numbers of the classes examined.\n",
    "ac_tree = accuracy_score(y_test2, yhat)\n",
    "ac_tree"
   ]
  },
  {
   "cell_type": "code",
   "execution_count": null,
   "metadata": {
    "ExecuteTime": {
     "end_time": "2020-03-19T12:47:29.095136Z",
     "start_time": "2020-03-19T12:47:29.077057Z"
    }
   },
   "outputs": [],
   "source": [
    "#Precision Metric. It's the proportion of true values that are really true\n",
    "precision_score(y_test2, yhat)"
   ]
  },
  {
   "cell_type": "code",
   "execution_count": null,
   "metadata": {
    "ExecuteTime": {
     "end_time": "2020-03-19T12:47:29.136449Z",
     "start_time": "2020-03-19T12:47:29.100723Z"
    }
   },
   "outputs": [],
   "source": [
    "#Recall_score. It's how many true positives were recalled (found) and how many of the correct hits were also found \n",
    "recall_score(y_test2, yhat)"
   ]
  },
  {
   "cell_type": "code",
   "execution_count": null,
   "metadata": {
    "ExecuteTime": {
     "end_time": "2020-03-19T12:47:29.156144Z",
     "start_time": "2020-03-19T12:47:29.140965Z"
    }
   },
   "outputs": [],
   "source": [
    "#F1_Score Metric. It's a number between 0 and 1. It's a hamonic mean of Precision and Recall Metrics\n",
    "f1_score(y_test2, yhat)"
   ]
  },
  {
   "cell_type": "markdown",
   "metadata": {},
   "source": [
    "# Confusion Matrix - Tree Decision"
   ]
  },
  {
   "cell_type": "code",
   "execution_count": null,
   "metadata": {
    "ExecuteTime": {
     "end_time": "2020-03-19T12:47:29.601318Z",
     "start_time": "2020-03-19T12:47:29.160699Z"
    }
   },
   "outputs": [],
   "source": [
    "fig = plt.figure(figsize=(7,5))\n",
    "cm = confusion_matrix(y_test2, yhat)\n",
    "kws = {\"ha\": 'left',\"va\": 'top', \"size\":15}\n",
    "group_names = ['True Neg','False Pos','False Neg','True Pos']\n",
    "\n",
    "group_percentages = [\"{0:.2%}\".format(value) for value in\n",
    "                     cm.flatten()/np.sum(cm)]\n",
    "\n",
    "labels = [f\"{v1}\\n{v2}\" for v1, v2 in\n",
    "          zip(group_names,group_percentages)]\n",
    "\n",
    "labels = np.asarray(labels).reshape(2,2)\n",
    "heatmap = sns.heatmap(cm/np.sum(cm), annot=labels, annot_kws=kws, fmt='', cmap='Blues').set_title('Confusion Matrix')\n",
    "plt.tick_params(labelsize=15)\n",
    "plt.plot()"
   ]
  },
  {
   "cell_type": "markdown",
   "metadata": {
    "ExecuteTime": {
     "end_time": "2020-03-16T17:58:11.942001Z",
     "start_time": "2020-03-16T17:58:11.937986Z"
    }
   },
   "source": [
    "# ROC Curve AUC - Decision Tree"
   ]
  },
  {
   "cell_type": "code",
   "execution_count": null,
   "metadata": {
    "ExecuteTime": {
     "end_time": "2020-03-19T12:47:29.611900Z",
     "start_time": "2020-03-19T12:47:29.604104Z"
    }
   },
   "outputs": [],
   "source": [
    "fpr, tpr, threshold = roc_curve(y_test2, y_hat_prob)"
   ]
  },
  {
   "cell_type": "code",
   "execution_count": null,
   "metadata": {
    "ExecuteTime": {
     "end_time": "2020-03-19T12:47:30.151649Z",
     "start_time": "2020-03-19T12:47:29.615404Z"
    }
   },
   "outputs": [],
   "source": [
    "plt.figure(figsize=(10, 7))\n",
    "plt.title('ROC CURVE AUC')\n",
    "plt.xlabel('False Positive Rate')\n",
    "plt.ylabel('True Positive Rate')\n",
    "plt.plot(fpr,tpr)\n",
    "plt.plot([0, 1], [0, 1], color='navy', lw=2, linestyle='--')\n",
    "plt.show()"
   ]
  },
  {
   "cell_type": "code",
   "execution_count": null,
   "metadata": {
    "ExecuteTime": {
     "end_time": "2020-03-19T12:47:30.159660Z",
     "start_time": "2020-03-19T12:47:30.154855Z"
    }
   },
   "outputs": [],
   "source": [
    "#pd.options.display.max_rows = 60"
   ]
  },
  {
   "cell_type": "code",
   "execution_count": null,
   "metadata": {
    "ExecuteTime": {
     "end_time": "2020-03-19T12:47:30.178686Z",
     "start_time": "2020-03-19T12:47:30.163718Z"
    }
   },
   "outputs": [],
   "source": [
    "#df_full.head()"
   ]
  },
  {
   "cell_type": "code",
   "execution_count": null,
   "metadata": {
    "ExecuteTime": {
     "end_time": "2020-03-19T12:47:30.203700Z",
     "start_time": "2020-03-19T12:47:30.183379Z"
    }
   },
   "outputs": [],
   "source": [
    "yhat = pd.DataFrame(yhat).rename(columns = {0:'Predito'})"
   ]
  },
  {
   "cell_type": "code",
   "execution_count": null,
   "metadata": {
    "ExecuteTime": {
     "end_time": "2020-03-19T12:47:30.216722Z",
     "start_time": "2020-03-19T12:47:30.208685Z"
    }
   },
   "outputs": [],
   "source": [
    "yhat = yhat.set_index(y_test2.index)"
   ]
  },
  {
   "cell_type": "code",
   "execution_count": null,
   "metadata": {
    "ExecuteTime": {
     "end_time": "2020-03-19T12:47:30.233698Z",
     "start_time": "2020-03-19T12:47:30.222346Z"
    }
   },
   "outputs": [],
   "source": [
    "y_test2 = pd.DataFrame(y_test2)\n",
    "y_test2['Predito'] = yhat['Predito']"
   ]
  },
  {
   "cell_type": "code",
   "execution_count": null,
   "metadata": {
    "ExecuteTime": {
     "end_time": "2020-03-19T12:47:30.302230Z",
     "start_time": "2020-03-19T12:47:30.238059Z"
    }
   },
   "outputs": [],
   "source": [
    "#That's a comparation between the True values and the Predicted values\n",
    "y_test2"
   ]
  },
  {
   "cell_type": "markdown",
   "metadata": {},
   "source": [
    "# Random Forest Classification"
   ]
  },
  {
   "cell_type": "code",
   "execution_count": null,
   "metadata": {
    "ExecuteTime": {
     "end_time": "2020-03-19T12:47:30.325420Z",
     "start_time": "2020-03-19T12:47:30.306369Z"
    }
   },
   "outputs": [],
   "source": [
    "X_train, X_test, y_train, y_test = train_test_split(df_full[['Pclass', 'Age', 'Sex_Male']], df_full.Survived, train_size=0.7, random_state=1)"
   ]
  },
  {
   "cell_type": "code",
   "execution_count": null,
   "metadata": {
    "ExecuteTime": {
     "end_time": "2020-03-19T12:47:30.337258Z",
     "start_time": "2020-03-19T12:47:30.330906Z"
    }
   },
   "outputs": [],
   "source": [
    "model_rfc = RandomForestClassifier()"
   ]
  },
  {
   "cell_type": "code",
   "execution_count": null,
   "metadata": {
    "ExecuteTime": {
     "end_time": "2020-03-19T12:47:30.413611Z",
     "start_time": "2020-03-19T12:47:30.352521Z"
    },
    "scrolled": true
   },
   "outputs": [],
   "source": [
    "#model.fit(X_train, y_train)\n",
    "model_rfc.fit(df_full[['Pclass', 'Age', 'Sex_Male']], df_full.Survived)"
   ]
  },
  {
   "cell_type": "code",
   "execution_count": null,
   "metadata": {
    "ExecuteTime": {
     "end_time": "2020-03-19T12:47:30.462419Z",
     "start_time": "2020-03-19T12:47:30.417842Z"
    }
   },
   "outputs": [],
   "source": [
    "yhat = model_rfc.predict(df_full[['Pclass', 'Age', 'Sex_Male']])\n",
    "yhat"
   ]
  },
  {
   "cell_type": "code",
   "execution_count": null,
   "metadata": {
    "ExecuteTime": {
     "end_time": "2020-03-19T12:47:30.490410Z",
     "start_time": "2020-03-19T12:47:30.467656Z"
    }
   },
   "outputs": [],
   "source": [
    "y_hat_prob = model_rfc.predict_proba(df_full[['Pclass', 'Age', 'Sex_Male']])[:,1]"
   ]
  },
  {
   "cell_type": "code",
   "execution_count": null,
   "metadata": {
    "ExecuteTime": {
     "end_time": "2020-03-19T12:47:31.187391Z",
     "start_time": "2020-03-19T12:47:30.495911Z"
    }
   },
   "outputs": [],
   "source": [
    "plt.hist(y_hat_prob, bins=8)\n",
    "plt.xlim(0, 1)\n",
    "plt.title('Histograma das possibilidades preditas')\n",
    "plt.show()"
   ]
  },
  {
   "cell_type": "markdown",
   "metadata": {},
   "source": [
    "# Metrics"
   ]
  },
  {
   "cell_type": "code",
   "execution_count": null,
   "metadata": {
    "ExecuteTime": {
     "end_time": "2020-03-19T12:47:31.414961Z",
     "start_time": "2020-03-19T12:47:31.192281Z"
    }
   },
   "outputs": [],
   "source": [
    "#Cross Validate Metric\n",
    "show_cross_validate(model, df_full[['Pclass', 'Age', 'Sex_Male']], df_full.Survived, k=5)"
   ]
  },
  {
   "cell_type": "code",
   "execution_count": null,
   "metadata": {
    "ExecuteTime": {
     "end_time": "2020-03-19T12:47:31.424404Z",
     "start_time": "2020-03-19T12:47:31.419723Z"
    }
   },
   "outputs": [],
   "source": [
    "#ac_random = accuracy_score(y_test, yhat)\n",
    "#ac_random"
   ]
  },
  {
   "cell_type": "code",
   "execution_count": null,
   "metadata": {
    "ExecuteTime": {
     "end_time": "2020-03-19T12:47:31.474436Z",
     "start_time": "2020-03-19T12:47:31.428961Z"
    }
   },
   "outputs": [],
   "source": [
    "#precision_score(y_test, yhat)"
   ]
  },
  {
   "cell_type": "code",
   "execution_count": null,
   "metadata": {
    "ExecuteTime": {
     "end_time": "2020-03-19T12:47:31.485731Z",
     "start_time": "2020-03-19T12:47:31.479751Z"
    }
   },
   "outputs": [],
   "source": [
    "#recall_score(y_test, yhat)"
   ]
  },
  {
   "cell_type": "code",
   "execution_count": null,
   "metadata": {
    "ExecuteTime": {
     "end_time": "2020-03-19T12:47:31.505516Z",
     "start_time": "2020-03-19T12:47:31.489616Z"
    }
   },
   "outputs": [],
   "source": [
    "#f1_score(y_test, yhat)"
   ]
  },
  {
   "cell_type": "markdown",
   "metadata": {},
   "source": [
    "# Confusion Matrix - Random Forest"
   ]
  },
  {
   "cell_type": "code",
   "execution_count": null,
   "metadata": {
    "ExecuteTime": {
     "end_time": "2020-03-19T12:47:32.104756Z",
     "start_time": "2020-03-19T12:47:31.510426Z"
    }
   },
   "outputs": [],
   "source": [
    "fig = plt.figure(figsize=(7,5))\n",
    "cm = confusion_matrix(df_full.Survived, yhat)\n",
    "\n",
    "kws = {\"ha\": 'left',\"va\": 'top', \"size\":15}\n",
    "group_names = ['True Neg','False Pos','False Neg','True Pos']\n",
    "\n",
    "group_percentages = [\"{0:.2%}\".format(value) for value in\n",
    "                     cm.flatten()/np.sum(cm)]\n",
    "\n",
    "labels = [f\"{v1}\\n{v2}\" for v1, v2 in\n",
    "          zip(group_names,group_percentages)]\n",
    "\n",
    "labels = np.asarray(labels).reshape(2,2)\n",
    "heatmap = sns.heatmap(cm/np.sum(cm), annot=labels, annot_kws=kws, fmt='', cmap='Blues').set_title('Confusion Matrix')\n",
    "plt.tick_params(labelsize=15)\n",
    "plt.plot()"
   ]
  },
  {
   "cell_type": "markdown",
   "metadata": {},
   "source": [
    "# ROC CURVE AUC - Random Forest"
   ]
  },
  {
   "cell_type": "code",
   "execution_count": null,
   "metadata": {
    "ExecuteTime": {
     "end_time": "2020-03-19T12:47:32.772638Z",
     "start_time": "2020-03-19T12:47:32.108534Z"
    }
   },
   "outputs": [],
   "source": [
    "show_roc_curve(df_full.Survived, y_hat_prob)"
   ]
  },
  {
   "cell_type": "markdown",
   "metadata": {
    "ExecuteTime": {
     "end_time": "2020-03-17T18:02:34.852644Z",
     "start_time": "2020-03-17T18:02:34.846658Z"
    }
   },
   "source": [
    "# XGBoost"
   ]
  },
  {
   "cell_type": "code",
   "execution_count": null,
   "metadata": {
    "ExecuteTime": {
     "end_time": "2020-03-19T12:47:32.784415Z",
     "start_time": "2020-03-19T12:47:32.777358Z"
    }
   },
   "outputs": [],
   "source": [
    "model = XGBClassifier()"
   ]
  },
  {
   "cell_type": "code",
   "execution_count": null,
   "metadata": {
    "ExecuteTime": {
     "end_time": "2020-03-19T12:47:32.811914Z",
     "start_time": "2020-03-19T12:47:32.797402Z"
    }
   },
   "outputs": [],
   "source": [
    "df_full.columns"
   ]
  },
  {
   "cell_type": "code",
   "execution_count": null,
   "metadata": {
    "ExecuteTime": {
     "end_time": "2020-03-19T12:51:04.519499Z",
     "start_time": "2020-03-19T12:51:03.959531Z"
    }
   },
   "outputs": [],
   "source": [
    "show_cross_validate(model, df_full[['Pclass', 'Age', 'Sex_Male']], df_full.Survived, k=5)"
   ]
  },
  {
   "cell_type": "code",
   "execution_count": null,
   "metadata": {
    "ExecuteTime": {
     "end_time": "2020-03-19T12:51:04.533003Z",
     "start_time": "2020-03-19T12:51:04.523542Z"
    }
   },
   "outputs": [],
   "source": [
    "import sklearn\n",
    "sklearn.metrics.SCORERS.keys()"
   ]
  },
  {
   "cell_type": "code",
   "execution_count": null,
   "metadata": {
    "ExecuteTime": {
     "end_time": "2020-03-19T12:51:04.684911Z",
     "start_time": "2020-03-19T12:51:04.538536Z"
    }
   },
   "outputs": [],
   "source": [
    "model.fit(df_full[['Pclass', 'Age', 'Sex_Male']], df_full.Survived)"
   ]
  },
  {
   "cell_type": "code",
   "execution_count": null,
   "metadata": {
    "ExecuteTime": {
     "end_time": "2020-03-19T12:51:04.991835Z",
     "start_time": "2020-03-19T12:51:04.688483Z"
    }
   },
   "outputs": [],
   "source": [
    "df_full[['Pclass', 'Age', 'Sex_Male']]"
   ]
  },
  {
   "cell_type": "code",
   "execution_count": null,
   "metadata": {
    "ExecuteTime": {
     "end_time": "2020-03-19T12:51:05.013002Z",
     "start_time": "2020-03-19T12:51:04.997021Z"
    }
   },
   "outputs": [],
   "source": [
    "yhat = model.predict(df_full[['Pclass', 'Age', 'Sex_Male']])"
   ]
  },
  {
   "cell_type": "code",
   "execution_count": null,
   "metadata": {
    "ExecuteTime": {
     "end_time": "2020-03-19T12:51:05.039450Z",
     "start_time": "2020-03-19T12:51:05.016996Z"
    }
   },
   "outputs": [],
   "source": [
    "y_hat_prob = model.predict_proba(df_full[['Pclass', 'Age', 'Sex_Male']])[:,1]"
   ]
  },
  {
   "cell_type": "code",
   "execution_count": null,
   "metadata": {
    "ExecuteTime": {
     "end_time": "2020-03-19T12:51:05.489598Z",
     "start_time": "2020-03-19T12:51:05.043598Z"
    }
   },
   "outputs": [],
   "source": [
    "plt.title('Histograma das probabilidade de predicao')\n",
    "plt.xlim(0, 1)\n",
    "plt.hist(y_hat_prob, bins=10)\n",
    "plt.show()"
   ]
  },
  {
   "cell_type": "code",
   "execution_count": null,
   "metadata": {
    "ExecuteTime": {
     "end_time": "2020-03-19T12:51:06.106819Z",
     "start_time": "2020-03-19T12:51:05.497822Z"
    }
   },
   "outputs": [],
   "source": [
    "#ROCK CURVE AUC\n",
    "show_roc_curve(df_full.Survived, y_hat_prob)"
   ]
  },
  {
   "cell_type": "code",
   "execution_count": null,
   "metadata": {
    "ExecuteTime": {
     "end_time": "2020-03-19T12:51:06.119731Z",
     "start_time": "2020-03-19T12:51:06.111404Z"
    }
   },
   "outputs": [],
   "source": [
    "df_full.columns"
   ]
  },
  {
   "cell_type": "code",
   "execution_count": null,
   "metadata": {
    "ExecuteTime": {
     "end_time": "2020-03-19T12:51:06.826783Z",
     "start_time": "2020-03-19T12:51:06.819837Z"
    }
   },
   "outputs": [],
   "source": [
    "yhat = pd.DataFrame(yhat).rename(columns={0:'Predito'})"
   ]
  },
  {
   "cell_type": "code",
   "execution_count": null,
   "metadata": {
    "ExecuteTime": {
     "end_time": "2020-03-19T12:51:06.847766Z",
     "start_time": "2020-03-19T12:51:06.832506Z"
    }
   },
   "outputs": [],
   "source": [
    "yhat = yhat.set_index(df_full[['Pclass', 'Age', 'Sex_Male']].index)"
   ]
  },
  {
   "cell_type": "code",
   "execution_count": null,
   "metadata": {
    "ExecuteTime": {
     "end_time": "2020-03-19T12:51:06.862344Z",
     "start_time": "2020-03-19T12:51:06.853166Z"
    }
   },
   "outputs": [],
   "source": [
    "yhat['True'] = df_full.Survived"
   ]
  },
  {
   "cell_type": "code",
   "execution_count": null,
   "metadata": {
    "ExecuteTime": {
     "end_time": "2020-03-19T12:51:07.062639Z",
     "start_time": "2020-03-19T12:51:06.876165Z"
    }
   },
   "outputs": [],
   "source": [
    "yhat"
   ]
  },
  {
   "cell_type": "markdown",
   "metadata": {},
   "source": [
    "# Final Result of the Machine Learning Algorithms"
   ]
  },
  {
   "cell_type": "code",
   "execution_count": null,
   "metadata": {
    "ExecuteTime": {
     "end_time": "2020-03-19T12:51:07.072847Z",
     "start_time": "2020-03-19T12:51:07.067832Z"
    }
   },
   "outputs": [],
   "source": [
    "# Columns = [\n",
    "#     'Algorithm',\n",
    "#     'Percent of Accuracy'\n",
    "# ]\n",
    "\n",
    "# df_metrics = pd.DataFrame({\"Algorithm\": ['Logistic Regression', 'Tree Decision', 'Random Forest'], \n",
    "#                            \"Percent of Accuracy\": [ac_logistic * 100, ac_tree * 100, ac_random * 100]})\n",
    "# df_metrics.head()"
   ]
  },
  {
   "cell_type": "code",
   "execution_count": null,
   "metadata": {
    "ExecuteTime": {
     "end_time": "2020-03-19T12:51:07.093871Z",
     "start_time": "2020-03-19T12:51:07.076837Z"
    }
   },
   "outputs": [],
   "source": [
    "# df_metrics.sort_values(['Percent of Accuracy'], ascending=False, inplace=True)"
   ]
  },
  {
   "cell_type": "code",
   "execution_count": null,
   "metadata": {
    "ExecuteTime": {
     "end_time": "2020-03-19T12:51:07.105694Z",
     "start_time": "2020-03-19T12:51:07.097862Z"
    },
    "scrolled": false
   },
   "outputs": [],
   "source": [
    "# f, ax = plt.subplots(figsize=(7,4))\n",
    "\n",
    "# total = len(df_metrics['Percent of Accuracy'])\n",
    "# barplot = sns.barplot(x='Percent of Accuracy', y='Algorithm', data=df_metrics, color='darkblue')\n",
    "# plt.title('Porcentagem de Accuracy por algoritimo')\n",
    "\n",
    "# plt.show()"
   ]
  },
  {
   "cell_type": "markdown",
   "metadata": {
    "ExecuteTime": {
     "end_time": "2020-03-18T16:08:14.069563Z",
     "start_time": "2020-03-18T16:08:14.065571Z"
    }
   },
   "source": [
    "# Preparing to Commit at Kaggle"
   ]
  },
  {
   "cell_type": "code",
   "execution_count": null,
   "metadata": {
    "ExecuteTime": {
     "end_time": "2020-03-19T12:51:07.180651Z",
     "start_time": "2020-03-19T12:51:07.110921Z"
    }
   },
   "outputs": [],
   "source": [
    "test_csv_path = \"df_titanic/test.csv\"\n",
    "df_final = pd.read_csv(test_csv_path)\n",
    "df_final.head()"
   ]
  },
  {
   "cell_type": "code",
   "execution_count": null,
   "metadata": {
    "ExecuteTime": {
     "end_time": "2020-03-19T12:51:07.201512Z",
     "start_time": "2020-03-19T12:51:07.184990Z"
    }
   },
   "outputs": [],
   "source": [
    "df_final = df_final.drop(columns={'SibSp', 'Parch', 'Ticket', 'Fare', 'Cabin', 'Embarked', 'Name'}).dropna()"
   ]
  },
  {
   "cell_type": "code",
   "execution_count": null,
   "metadata": {
    "ExecuteTime": {
     "end_time": "2020-03-19T12:51:07.219449Z",
     "start_time": "2020-03-19T12:51:07.206497Z"
    }
   },
   "outputs": [],
   "source": [
    "df_final['Sex_Male'] = df_final.Sex.map({'female': 0, 'male': 1})"
   ]
  },
  {
   "cell_type": "code",
   "execution_count": null,
   "metadata": {
    "ExecuteTime": {
     "end_time": "2020-03-19T12:51:07.244483Z",
     "start_time": "2020-03-19T12:51:07.224212Z"
    }
   },
   "outputs": [],
   "source": [
    "df_final.drop(columns={'Sex'}, inplace=True)"
   ]
  },
  {
   "cell_type": "code",
   "execution_count": null,
   "metadata": {
    "ExecuteTime": {
     "end_time": "2020-03-19T12:51:07.261283Z",
     "start_time": "2020-03-19T12:51:07.249696Z"
    }
   },
   "outputs": [],
   "source": [
    "# pd.options.display.max_rows = 60"
   ]
  },
  {
   "cell_type": "code",
   "execution_count": null,
   "metadata": {
    "ExecuteTime": {
     "end_time": "2020-03-19T12:51:07.276345Z",
     "start_time": "2020-03-19T12:51:07.269896Z"
    }
   },
   "outputs": [],
   "source": [
    "# df_testando = df_full.append(df_final[['PassengerId', 'Pclass', 'Age', 'Sex_Male']], sort=False)"
   ]
  },
  {
   "cell_type": "code",
   "execution_count": null,
   "metadata": {
    "ExecuteTime": {
     "end_time": "2020-03-19T12:51:07.289390Z",
     "start_time": "2020-03-19T12:51:07.284405Z"
    }
   },
   "outputs": [],
   "source": [
    "# df_final = df_testando.reset_index().drop(columns={'index'})"
   ]
  },
  {
   "cell_type": "code",
   "execution_count": null,
   "metadata": {
    "ExecuteTime": {
     "end_time": "2020-03-19T12:51:07.426527Z",
     "start_time": "2020-03-19T12:51:07.294442Z"
    }
   },
   "outputs": [],
   "source": [
    "df_final"
   ]
  },
  {
   "cell_type": "code",
   "execution_count": null,
   "metadata": {
    "ExecuteTime": {
     "end_time": "2020-03-19T12:51:07.452874Z",
     "start_time": "2020-03-19T12:51:07.431640Z"
    }
   },
   "outputs": [],
   "source": [
    "yhat = model_rfc.predict(df_final[['Pclass', 'Age', 'Sex_Male']])\n",
    "yhat"
   ]
  },
  {
   "cell_type": "code",
   "execution_count": null,
   "metadata": {
    "ExecuteTime": {
     "end_time": "2020-03-19T12:51:07.471237Z",
     "start_time": "2020-03-19T12:51:07.457998Z"
    }
   },
   "outputs": [],
   "source": [
    "yhat = pd.DataFrame(yhat).rename(columns={0:'Predito'})"
   ]
  },
  {
   "cell_type": "code",
   "execution_count": null,
   "metadata": {
    "ExecuteTime": {
     "end_time": "2020-03-19T12:51:07.493215Z",
     "start_time": "2020-03-19T12:51:07.476367Z"
    }
   },
   "outputs": [],
   "source": [
    "yhat = yhat.set_index(df_final[['Pclass', 'Age', 'Sex_Male']].index)"
   ]
  },
  {
   "cell_type": "code",
   "execution_count": null,
   "metadata": {
    "ExecuteTime": {
     "end_time": "2020-03-19T12:51:07.655032Z",
     "start_time": "2020-03-19T12:51:07.502276Z"
    }
   },
   "outputs": [],
   "source": [
    "df_final['Predito'] = yhat\n",
    "df_final"
   ]
  },
  {
   "cell_type": "code",
   "execution_count": null,
   "metadata": {
    "ExecuteTime": {
     "end_time": "2020-03-19T12:51:07.673100Z",
     "start_time": "2020-03-19T12:51:07.662165Z"
    }
   },
   "outputs": [],
   "source": [
    "df_commit = df_final.drop(columns=['Pclass', 'Age', 'Sex_Male'])"
   ]
  },
  {
   "cell_type": "code",
   "execution_count": null,
   "metadata": {
    "ExecuteTime": {
     "end_time": "2020-03-19T12:51:07.692801Z",
     "start_time": "2020-03-19T12:51:07.679046Z"
    }
   },
   "outputs": [],
   "source": [
    "df_commit = df_commit.rename(columns={\"Predito\":'Survived'})"
   ]
  },
  {
   "cell_type": "code",
   "execution_count": null,
   "metadata": {
    "ExecuteTime": {
     "end_time": "2020-03-19T12:51:07.724579Z",
     "start_time": "2020-03-19T12:51:07.699497Z"
    }
   },
   "outputs": [],
   "source": [
    "df_commit.to_csv('gender_submission.csv')"
   ]
  }
 ],
 "metadata": {
  "kernelspec": {
   "display_name": "Python 3",
   "language": "python",
   "name": "python3"
  },
  "language_info": {
   "codemirror_mode": {
    "name": "ipython",
    "version": 3
   },
   "file_extension": ".py",
   "mimetype": "text/x-python",
   "name": "python",
   "nbconvert_exporter": "python",
   "pygments_lexer": "ipython3",
   "version": "3.7.4"
  }
 },
 "nbformat": 4,
 "nbformat_minor": 2
}
